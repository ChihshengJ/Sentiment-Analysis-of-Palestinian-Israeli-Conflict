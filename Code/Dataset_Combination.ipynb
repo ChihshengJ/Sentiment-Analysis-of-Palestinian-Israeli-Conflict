{
 "cells": [
  {
   "cell_type": "code",
   "execution_count": 2,
   "id": "46ec1304",
   "metadata": {},
   "outputs": [],
   "source": [
    "import os\n",
    "import pandas as pd\n",
    "\n",
    "# Get a list of all files in the current directory that match the pattern\n",
    "files = [file for file in os.listdir('.') if file.startswith('worldnews_data_') and file.endswith('.csv')]\n",
    "\n",
    "# Initialize a list to store the dataframes\n",
    "dataframes = []\n",
    "\n",
    "# Loop through the files and read them into dataframes\n",
    "for file in files:\n",
    "    df = pd.read_csv(file)\n",
    "    dataframes.append(df)\n",
    "\n",
    "# Concatenate all the dataframes\n",
    "combined_data = pd.concat(dataframes, ignore_index=True)\n",
    "\n",
    "# Remove duplicate rows\n",
    "combined_data.drop_duplicates(inplace=True)\n",
    "\n",
    "# Save the combined data to a new CSV file\n",
    "combined_data.to_csv('combined_worldnews_data.csv', index=False)\n"
   ]
  },
  {
   "cell_type": "code",
   "execution_count": null,
   "id": "d7b4be82",
   "metadata": {},
   "outputs": [],
   "source": []
  }
 ],
 "metadata": {
  "kernelspec": {
   "display_name": "Python 3 (ipykernel)",
   "language": "python",
   "name": "python3"
  },
  "language_info": {
   "codemirror_mode": {
    "name": "ipython",
    "version": 3
   },
   "file_extension": ".py",
   "mimetype": "text/x-python",
   "name": "python",
   "nbconvert_exporter": "python",
   "pygments_lexer": "ipython3",
   "version": "3.11.5"
  }
 },
 "nbformat": 4,
 "nbformat_minor": 5
}
